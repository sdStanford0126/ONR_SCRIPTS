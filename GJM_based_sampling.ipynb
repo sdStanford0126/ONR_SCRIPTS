{
 "cells": [
  {
   "cell_type": "code",
   "execution_count": 2,
   "metadata": {},
   "outputs": [],
   "source": [
    "import numpy as np\n",
    "import matplotlib\n",
    "import matplotlib.pyplot as plt"
   ]
  },
  {
   "cell_type": "markdown",
   "metadata": {},
   "source": [
    "This is script for generating the sampling points (planar in xy and xz) for the baseline no injection. The estimation of the GJM wavenumber process is supplied by Olivia Martin, (sources: not known yet)\n",
    "First definitions \n",
    "$$\n",
    "c_\\infty = \\text{ambient speed of sound} \\\\\n",
    "De = \\text{equivalent nozzle diameter} \\\\\n",
    "h = \\text{minor axis dimension}\n",
    "$$\n",
    "We have the definition for the dimensional quantites\n",
    "$$\n",
    "\\tilde{f} = f *\\frac{h}{c_\\infty} \\text{ non-dim freq.} \\\\\n",
    "\\tilde{k} = k *h \\text{ non-dim wavenumber} \\\\\n",
    "\\tilde{\\omega} = 2\\pi\\omega \\\\\n",
    "\\tilde{c} = \\frac{\\tilde{\\omega}}{\\tilde{k}} \\text{ non-dim phase speed}  \n",
    "$$\n",
    "\n",
    "The Kelvin-Helmholtz wave phase speed can be approximated as \n",
    "$$ c_{KH} = 0.8 \\underbrace{U_j}_{\\text{jet exit velocity}} = \\frac{\\omega_{KH}}{k_{KH}}$$\n",
    "The non-dimensional Kelvin-Helmholtz wave velocity is therefore\n",
    "$$ \\tilde{c}_{KH} = 0.8 *\\frac{U_j}{c_\\infty} = 0.8*Ma $$ \n",
    "With $ Ma $ being the acoustic mach number\n",
    "The nondim wavenumber of KH wave can then be approximated as \n",
    "$$\\tilde{k}_{KH} = \\frac{\\tilde{\\omega}_{KH}}{\\tilde{c}_{KH}} = \\frac{2\\pi \\tilde{f}_{screech}}{0.8 Ma}$$\n",
    "Using the following definitions\n",
    "$$ \\tilde{f}_{screech} = \\frac{f_{screech} h}{c_\\infty} \\\\ \n",
    "Ma = \\frac{Uj}{c_\\infty}\n",
    "$$\n",
    "\n",
    "Now for the Shock cell wavenumber, it was determined by measuring the distance between the shock cells in paraview. In my particular case, using the average distance between peaks of pressure using the shockcell\n"
   ]
  }
 ],
 "metadata": {
  "kernelspec": {
   "display_name": "Python 3",
   "language": "python",
   "name": "python3"
  },
  "language_info": {
   "codemirror_mode": {
    "name": "ipython",
    "version": 3
   },
   "file_extension": ".py",
   "mimetype": "text/x-python",
   "name": "python",
   "nbconvert_exporter": "python",
   "pygments_lexer": "ipython3",
   "version": "3.11.10"
  }
 },
 "nbformat": 4,
 "nbformat_minor": 2
}
